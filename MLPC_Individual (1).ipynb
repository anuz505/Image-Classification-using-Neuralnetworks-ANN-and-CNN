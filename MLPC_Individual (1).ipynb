{
 "cells": [
  {
   "cell_type": "code",
   "execution_count": 1,
   "id": "24d7765b",
   "metadata": {},
   "outputs": [],
   "source": [
    "import tensorflow as tf"
   ]
  },
  {
   "cell_type": "code",
   "execution_count": 2,
   "id": "c4609e0b",
   "metadata": {},
   "outputs": [],
   "source": [
    "from tensorflow.keras import datasets, layers, models\n",
    "import matplotlib.pyplot as plt \n",
    "import numpy as np"
   ]
  },
  {
   "cell_type": "code",
   "execution_count": 3,
   "id": "8ba4dcfc",
   "metadata": {},
   "outputs": [
    {
     "data": {
      "text/plain": [
       "(50000, 32, 32, 3)"
      ]
     },
     "execution_count": 3,
     "metadata": {},
     "output_type": "execute_result"
    }
   ],
   "source": [
    "(X_train, y_train),(X_test,y_test) = datasets.cifar10.load_data()\n",
    "X_train.shape"
   ]
  },
  {
   "cell_type": "code",
   "execution_count": 4,
   "id": "2816b516",
   "metadata": {},
   "outputs": [
    {
     "data": {
      "text/plain": [
       "(10000, 32, 32, 3)"
      ]
     },
     "execution_count": 4,
     "metadata": {},
     "output_type": "execute_result"
    }
   ],
   "source": [
    "X_test.shape"
   ]
  },
  {
   "cell_type": "code",
   "execution_count": 5,
   "id": "f401374b",
   "metadata": {},
   "outputs": [
    {
     "data": {
      "text/plain": [
       "array([[6],\n",
       "       [9],\n",
       "       [9],\n",
       "       [4],\n",
       "       [1]], dtype=uint8)"
      ]
     },
     "execution_count": 5,
     "metadata": {},
     "output_type": "execute_result"
    }
   ],
   "source": [
    "y_train[:5]"
   ]
  },
  {
   "cell_type": "code",
   "execution_count": 6,
   "id": "25b4a911",
   "metadata": {},
   "outputs": [
    {
     "data": {
      "text/plain": [
       "array([6, 9, 9, 4, 1], dtype=uint8)"
      ]
     },
     "execution_count": 6,
     "metadata": {},
     "output_type": "execute_result"
    }
   ],
   "source": [
    "y_train = y_train.reshape(-1,)\n",
    "y_train[:5]"
   ]
  },
  {
   "cell_type": "code",
   "execution_count": 7,
   "id": "7ce10bb3",
   "metadata": {},
   "outputs": [],
   "source": [
    "classes =[\"airplane\",\"automobile\",\"bird\",\"cat\",\"deer\",\"frog\",\"horse\",\"ship\",\"truck\"]"
   ]
  },
  {
   "cell_type": "code",
   "execution_count": 8,
   "id": "b5f2d1c2",
   "metadata": {},
   "outputs": [],
   "source": [
    "def plot_sample(X,y, index):\n",
    "    plt.figure(figsize =(15,2))\n",
    "    plt.imshow(X[index])\n",
    "    plt.xlabel(classes[y[index]])"
   ]
  },
  {
   "cell_type": "code",
   "execution_count": 9,
   "id": "406bbaa1",
   "metadata": {},
   "outputs": [
    {
     "data": {
      "image/png": "[encoded data removed]",
      "text/plain": [
       "<Figure size 1500x200 with 1 Axes>"
      ]
     },
     "metadata": {},
     "output_type": "display_data"
    }
   ],
   "source": [
    "plot_sample(X_train, y_train, 0)"
   ]
  },
  {
   "cell_type": "code",
   "execution_count": 10,
   "id": "7aefc935",
   "metadata": {},
   "outputs": [],
   "source": [
    "#the above was data exploration"
   ]
  },
  {
   "cell_type": "code",
   "execution_count": 11,
   "id": "cc041058",
   "metadata": {},
   "outputs": [],
   "source": [
    "#now normalization divide pixel value to 255."
   ]
  },
  {
   "cell_type": "code",
   "execution_count": 12,
   "id": "2ef38aac",
   "metadata": {},
   "outputs": [],
   "source": [
    "X_train = X_train / 255\n",
    "X_test = X_test / 255"
   ]
  },
  {
   "cell_type": "code",
   "execution_count": 13,
   "id": "dbddbec1",
   "metadata": {},
   "outputs": [],
   "source": [
    "#ANN"
   ]
  },
  {
   "cell_type": "code",
   "execution_count": 14,
   "id": "18867a27",
   "metadata": {},
   "outputs": [
    {
     "name": "stdout",
     "output_type": "stream",
     "text": [
      "Epoch 1/5\n",
      "1563/1563 [==============================] - 206s 130ms/step - loss: 1.8146 - accuracy: 0.3523\n",
      "Epoch 2/5\n",
      "1563/1563 [==============================] - 167s 107ms/step - loss: 1.6258 - accuracy: 0.4283\n",
      "Epoch 3/5\n",
      "1563/1563 [==============================] - 167s 107ms/step - loss: 1.5415 - accuracy: 0.4565\n",
      "Epoch 4/5\n",
      "1563/1563 [==============================] - 159s 102ms/step - loss: 1.4826 - accuracy: 0.4778\n",
      "Epoch 5/5\n",
      "1563/1563 [==============================] - 159s 102ms/step - loss: 1.4324 - accuracy: 0.4960\n"
     ]
    },
    {
     "data": {
      "text/plain": [
       "<keras.src.callbacks.History at 0x1f515375550>"
      ]
     },
     "execution_count": 14,
     "metadata": {},
     "output_type": "execute_result"
    }
   ],
   "source": [
    "ann = models.Sequential([\n",
    "        layers.Flatten(input_shape=(32,32,3)),\n",
    "        layers.Dense(3000, activation='relu'),\n",
    "        layers.Dense(1000, activation='relu'),\n",
    "        layers.Dense(10, activation='softmax')    \n",
    "    ])\n",
    "\n",
    "ann.compile(optimizer='SGD',\n",
    "              loss='sparse_categorical_crossentropy',\n",
    "              metrics=['accuracy'])\n",
    "\n",
    "ann.fit(X_train, y_train, epochs=5)"
   ]
  },
  {
   "cell_type": "code",
   "execution_count": 15,
   "id": "a7388db4",
   "metadata": {},
   "outputs": [
    {
     "name": "stdout",
     "output_type": "stream",
     "text": [
      "313/313 [==============================] - 7s 21ms/step\n",
      "Classification Report: \n",
      "               precision    recall  f1-score   support\n",
      "\n",
      "           0       0.79      0.28      0.42      1000\n",
      "           1       0.61      0.60      0.60      1000\n",
      "           2       0.40      0.23      0.29      1000\n",
      "           3       0.36      0.31      0.33      1000\n",
      "           4       0.33      0.63      0.43      1000\n",
      "           5       0.38      0.44      0.41      1000\n",
      "           6       0.56      0.47      0.51      1000\n",
      "           7       0.71      0.38      0.50      1000\n",
      "           8       0.59      0.64      0.61      1000\n",
      "           9       0.43      0.71      0.54      1000\n",
      "\n",
      "    accuracy                           0.47     10000\n",
      "   macro avg       0.51      0.47      0.46     10000\n",
      "weighted avg       0.51      0.47      0.46     10000\n",
      "\n"
     ]
    }
   ],
   "source": [
    "from sklearn.metrics import confusion_matrix , classification_report\n",
    "import numpy as np\n",
    "y_pred = ann.predict(X_test)\n",
    "y_pred_classes = [np.argmax(element) for element in y_pred]\n",
    "\n",
    "print(\"Classification Report: \\n\", classification_report(y_test, y_pred_classes))\n"
   ]
  },
  {
   "cell_type": "code",
   "execution_count": 16,
   "id": "cffd6a32",
   "metadata": {},
   "outputs": [],
   "source": [
    "cnn = models.Sequential([\n",
    "    layers.Conv2D(filters=32, kernel_size=(3, 3), activation='relu', input_shape=(32, 32, 3)),\n",
    "    layers.MaxPooling2D((2, 2)),\n",
    "    \n",
    "    layers.Conv2D(filters=64, kernel_size=(3, 3), activation='relu'),\n",
    "    layers.MaxPooling2D((2, 2)),\n",
    "    \n",
    "    layers.Flatten(),\n",
    "    layers.Dense(64, activation='relu'),\n",
    "    layers.Dense(10, activation='softmax')\n",
    "])"
   ]
  },
  {
   "cell_type": "code",
   "execution_count": 17,
   "id": "b8db7e7d",
   "metadata": {},
   "outputs": [],
   "source": [
    "cnn.compile(optimizer='adam',\n",
    "              loss='sparse_categorical_crossentropy',\n",
    "              metrics=['accuracy'])"
   ]
  },
  {
   "cell_type": "code",
   "execution_count": 18,
   "id": "5eb31632",
   "metadata": {},
   "outputs": [
    {
     "name": "stdout",
     "output_type": "stream",
     "text": [
      "Epoch 1/10\n",
      "1563/1563 [==============================] - 69s 43ms/step - loss: 1.5244 - accuracy: 0.4478\n",
      "Epoch 2/10\n",
      "1563/1563 [==============================] - 64s 41ms/step - loss: 1.1784 - accuracy: 0.5829\n",
      "Epoch 3/10\n",
      "1563/1563 [==============================] - 81s 52ms/step - loss: 1.0391 - accuracy: 0.6366\n",
      "Epoch 4/10\n",
      "1563/1563 [==============================] - 97s 62ms/step - loss: 0.9473 - accuracy: 0.6696\n",
      "Epoch 5/10\n",
      "1563/1563 [==============================] - 89s 57ms/step - loss: 0.8850 - accuracy: 0.6924\n",
      "Epoch 6/10\n",
      "1563/1563 [==============================] - 88s 56ms/step - loss: 0.8332 - accuracy: 0.7104\n",
      "Epoch 7/10\n",
      "1563/1563 [==============================] - 86s 55ms/step - loss: 0.7884 - accuracy: 0.7257\n",
      "Epoch 8/10\n",
      "1563/1563 [==============================] - 86s 55ms/step - loss: 0.7513 - accuracy: 0.7392\n",
      "Epoch 9/10\n",
      "1563/1563 [==============================] - 86s 55ms/step - loss: 0.7155 - accuracy: 0.7551\n",
      "Epoch 10/10\n",
      "1563/1563 [==============================] - 73s 46ms/step - loss: 0.6804 - accuracy: 0.7634\n"
     ]
    },
    {
     "data": {
      "text/plain": [
       "<keras.src.callbacks.History at 0x1f516e36d10>"
      ]
     },
     "execution_count": 18,
     "metadata": {},
     "output_type": "execute_result"
    }
   ],
   "source": [
    "cnn.fit(X_train, y_train, epochs=10)"
   ]
  },
  {
   "cell_type": "code",
   "execution_count": 19,
   "id": "29fdd6b5",
   "metadata": {},
   "outputs": [
    {
     "name": "stdout",
     "output_type": "stream",
     "text": [
      "313/313 [==============================] - 4s 11ms/step - loss: 0.8923 - accuracy: 0.7019\n"
     ]
    },
    {
     "data": {
      "text/plain": [
       "[0.8922619223594666, 0.7019000053405762]"
      ]
     },
     "execution_count": 19,
     "metadata": {},
     "output_type": "execute_result"
    }
   ],
   "source": [
    "cnn.evaluate(X_test,y_test)"
   ]
  },
  {
   "cell_type": "code",
   "execution_count": 20,
   "id": "a4a33554",
   "metadata": {},
   "outputs": [
    {
     "name": "stdout",
     "output_type": "stream",
     "text": [
      "313/313 [==============================] - 4s 11ms/step\n"
     ]
    },
    {
     "data": {
      "text/plain": [
       "array([[2.51058419e-03, 4.15065966e-04, 1.04498898e-03, 7.63102233e-01,\n",
       "        6.56855351e-04, 1.63570106e-01, 2.13488862e-02, 1.55159112e-04,\n",
       "        4.38362993e-02, 3.35980067e-03],\n",
       "       [5.74429706e-03, 7.21800979e-03, 7.83883752e-06, 1.21986591e-06,\n",
       "        2.11163425e-08, 9.00878749e-09, 2.24452301e-09, 4.61493244e-09,\n",
       "        9.86984909e-01, 4.36883893e-05],\n",
       "       [1.31438255e-01, 1.76434517e-01, 5.06903452e-04, 3.05680628e-03,\n",
       "        1.36005110e-04, 1.05799736e-04, 3.49573929e-05, 3.00864427e-04,\n",
       "        6.55312479e-01, 3.26734297e-02],\n",
       "       [8.29088092e-01, 1.26744658e-01, 4.32266854e-04, 4.40176664e-05,\n",
       "        7.43064957e-05, 5.57425494e-07, 2.21068200e-04, 6.47930710e-06,\n",
       "        4.32686731e-02, 1.19901444e-04],\n",
       "       [7.64035940e-06, 2.47248499e-05, 1.03689283e-02, 5.69568994e-03,\n",
       "        2.65063465e-01, 1.96835259e-03, 7.16624141e-01, 1.19331344e-05,\n",
       "        2.30568767e-04, 4.52560653e-06]], dtype=float32)"
      ]
     },
     "execution_count": 20,
     "metadata": {},
     "output_type": "execute_result"
    }
   ],
   "source": [
    "y_pred = cnn.predict(X_test)\n",
    "y_pred[:5]"
   ]
  },
  {
   "cell_type": "code",
   "execution_count": 21,
   "id": "bb0b5b32",
   "metadata": {},
   "outputs": [
    {
     "data": {
      "text/plain": [
       "[3, 8, 8, 0, 6]"
      ]
     },
     "execution_count": 21,
     "metadata": {},
     "output_type": "execute_result"
    }
   ],
   "source": [
    "y_classes = [np.argmax(element) for element in y_pred]\n",
    "y_classes[:5]"
   ]
  },
  {
   "cell_type": "code",
   "execution_count": 25,
   "id": "f435007e",
   "metadata": {},
   "outputs": [
    {
     "data": {
      "text/plain": [
       "array([3, 8, 8, 0, 6], dtype=uint8)"
      ]
     },
     "execution_count": 25,
     "metadata": {},
     "output_type": "execute_result"
    }
   ],
   "source": [
    "y_test = y_test.reshape(-1,)\n",
    "y_test[:5]"
   ]
  },
  {
   "cell_type": "code",
   "execution_count": 26,
   "id": "2ddc54b6",
   "metadata": {},
   "outputs": [
    {
     "data": {
      "image/png": "[encoded data removed]",
      "text/plain": [
       "<Figure size 1500x200 with 1 Axes>"
      ]
     },
     "metadata": {},
     "output_type": "display_data"
    }
   ],
   "source": [
    "plot_sample(X_test, y_test,3)"
   ]
  },
  {
   "cell_type": "code",
   "execution_count": 27,
   "id": "48105440",
   "metadata": {},
   "outputs": [
    {
     "data": {
      "text/plain": [
       "'airplane'"
      ]
     },
     "execution_count": 27,
     "metadata": {},
     "output_type": "execute_result"
    }
   ],
   "source": [
    "classes[y_classes[3]]"
   ]
  },
  {
   "cell_type": "code",
   "execution_count": 28,
   "id": "a8a71724",
   "metadata": {},
   "outputs": [
    {
     "data": {
      "text/plain": [
       "'airplane'"
      ]
     },
     "execution_count": 28,
     "metadata": {},
     "output_type": "execute_result"
    }
   ],
   "source": [
    "classes[y_classes[3]]"
   ]
  },
  {
   "cell_type": "code",
   "execution_count": null,
   "id": "87764e82",
   "metadata": {},
   "outputs": [],
   "source": []
  }
 ],
 "metadata": {
  "kernelspec": {
   "display_name": "Python 3 (ipykernel)",
   "language": "python",
   "name": "python3"
  },
  "language_info": {
   "codemirror_mode": {
    "name": "ipython",
    "version": 3
   },
   "file_extension": ".py",
   "mimetype": "text/x-python",
   "name": "python",
   "nbconvert_exporter": "python",
   "pygments_lexer": "ipython3",
   "version": "3.11.3"
  }
 },
 "nbformat": 4,
 "nbformat_minor": 5
}
